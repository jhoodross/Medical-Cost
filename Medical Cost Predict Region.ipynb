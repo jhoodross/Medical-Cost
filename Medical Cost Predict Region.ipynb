{
 "cells": [
  {
   "cell_type": "code",
   "execution_count": 33,
   "id": "61cf9b66",
   "metadata": {},
   "outputs": [],
   "source": [
    "import pandas as pd\n",
    "import numpy as np\n",
    "import matplotlib.pyplot as plt\n",
    "%matplotlib inline\n",
    "pd.options.display.float_format = '{:.2f}'.format\n",
    "from sklearn.compose import make_column_transformer\n",
    "from sklearn.preprocessing import OneHotEncoder\n",
    "from sklearn.linear_model import LogisticRegression\n",
    "from sklearn.pipeline import make_pipeline\n",
    "from sklearn.model_selection import cross_val_score\n",
    "from sklearn import utils\n",
    "from sklearn import preprocessing\n"
   ]
  },
  {
   "cell_type": "code",
   "execution_count": 3,
   "id": "1914e528",
   "metadata": {},
   "outputs": [],
   "source": [
    "df = pd.read_csv('insurance.csv')\n"
   ]
  },
  {
   "cell_type": "code",
   "execution_count": 8,
   "id": "01305db1",
   "metadata": {},
   "outputs": [
    {
     "data": {
      "text/html": [
       "<div>\n",
       "<style scoped>\n",
       "    .dataframe tbody tr th:only-of-type {\n",
       "        vertical-align: middle;\n",
       "    }\n",
       "\n",
       "    .dataframe tbody tr th {\n",
       "        vertical-align: top;\n",
       "    }\n",
       "\n",
       "    .dataframe thead th {\n",
       "        text-align: right;\n",
       "    }\n",
       "</style>\n",
       "<table border=\"1\" class=\"dataframe\">\n",
       "  <thead>\n",
       "    <tr style=\"text-align: right;\">\n",
       "      <th></th>\n",
       "      <th>age</th>\n",
       "      <th>sex</th>\n",
       "      <th>bmi</th>\n",
       "      <th>smoker</th>\n",
       "      <th>region</th>\n",
       "      <th>charges</th>\n",
       "    </tr>\n",
       "  </thead>\n",
       "  <tbody>\n",
       "    <tr>\n",
       "      <th>0</th>\n",
       "      <td>19</td>\n",
       "      <td>female</td>\n",
       "      <td>27.90</td>\n",
       "      <td>yes</td>\n",
       "      <td>southwest</td>\n",
       "      <td>16884.92</td>\n",
       "    </tr>\n",
       "    <tr>\n",
       "      <th>1</th>\n",
       "      <td>18</td>\n",
       "      <td>male</td>\n",
       "      <td>33.77</td>\n",
       "      <td>no</td>\n",
       "      <td>southeast</td>\n",
       "      <td>1725.55</td>\n",
       "    </tr>\n",
       "    <tr>\n",
       "      <th>2</th>\n",
       "      <td>28</td>\n",
       "      <td>male</td>\n",
       "      <td>33.00</td>\n",
       "      <td>no</td>\n",
       "      <td>southeast</td>\n",
       "      <td>4449.46</td>\n",
       "    </tr>\n",
       "    <tr>\n",
       "      <th>3</th>\n",
       "      <td>33</td>\n",
       "      <td>male</td>\n",
       "      <td>22.70</td>\n",
       "      <td>no</td>\n",
       "      <td>northwest</td>\n",
       "      <td>21984.47</td>\n",
       "    </tr>\n",
       "    <tr>\n",
       "      <th>4</th>\n",
       "      <td>32</td>\n",
       "      <td>male</td>\n",
       "      <td>28.88</td>\n",
       "      <td>no</td>\n",
       "      <td>northwest</td>\n",
       "      <td>3866.86</td>\n",
       "    </tr>\n",
       "  </tbody>\n",
       "</table>\n",
       "</div>"
      ],
      "text/plain": [
       "   age     sex   bmi smoker     region  charges\n",
       "0   19  female 27.90    yes  southwest 16884.92\n",
       "1   18    male 33.77     no  southeast  1725.55\n",
       "2   28    male 33.00     no  southeast  4449.46\n",
       "3   33    male 22.70     no  northwest 21984.47\n",
       "4   32    male 28.88     no  northwest  3866.86"
      ]
     },
     "execution_count": 8,
     "metadata": {},
     "output_type": "execute_result"
    }
   ],
   "source": [
    "df.head()"
   ]
  },
  {
   "cell_type": "code",
   "execution_count": 7,
   "id": "4e9f26a0",
   "metadata": {},
   "outputs": [],
   "source": [
    "df = df.drop('children', axis = 1)"
   ]
  },
  {
   "cell_type": "code",
   "execution_count": 16,
   "id": "8e7b7682",
   "metadata": {},
   "outputs": [],
   "source": [
    "key_vars = ['age', 'bmi', 'charges']"
   ]
  },
  {
   "cell_type": "code",
   "execution_count": 11,
   "id": "93020de9",
   "metadata": {},
   "outputs": [
    {
     "data": {
      "text/html": [
       "<div>\n",
       "<style scoped>\n",
       "    .dataframe tbody tr th:only-of-type {\n",
       "        vertical-align: middle;\n",
       "    }\n",
       "\n",
       "    .dataframe tbody tr th {\n",
       "        vertical-align: top;\n",
       "    }\n",
       "\n",
       "    .dataframe thead th {\n",
       "        text-align: right;\n",
       "    }\n",
       "</style>\n",
       "<table border=\"1\" class=\"dataframe\">\n",
       "  <thead>\n",
       "    <tr style=\"text-align: right;\">\n",
       "      <th></th>\n",
       "      <th>age</th>\n",
       "      <th>bmi</th>\n",
       "      <th>charges</th>\n",
       "    </tr>\n",
       "    <tr>\n",
       "      <th>sex</th>\n",
       "      <th></th>\n",
       "      <th></th>\n",
       "      <th></th>\n",
       "    </tr>\n",
       "  </thead>\n",
       "  <tbody>\n",
       "    <tr>\n",
       "      <th>female</th>\n",
       "      <td>39.50</td>\n",
       "      <td>30.38</td>\n",
       "      <td>12569.58</td>\n",
       "    </tr>\n",
       "    <tr>\n",
       "      <th>male</th>\n",
       "      <td>38.92</td>\n",
       "      <td>30.94</td>\n",
       "      <td>13956.75</td>\n",
       "    </tr>\n",
       "  </tbody>\n",
       "</table>\n",
       "</div>"
      ],
      "text/plain": [
       "         age   bmi  charges\n",
       "sex                        \n",
       "female 39.50 30.38 12569.58\n",
       "male   38.92 30.94 13956.75"
      ]
     },
     "execution_count": 11,
     "metadata": {},
     "output_type": "execute_result"
    }
   ],
   "source": [
    "dfmean = df.groupby('sex').mean()\n",
    "dfmean"
   ]
  },
  {
   "cell_type": "code",
   "execution_count": 17,
   "id": "d4ed524a",
   "metadata": {},
   "outputs": [],
   "source": [
    "x= df[key_vars]\n",
    "y= df['region']"
   ]
  },
  {
   "cell_type": "code",
   "execution_count": 18,
   "id": "d4f1b306",
   "metadata": {},
   "outputs": [
    {
     "data": {
      "text/plain": [
       "(1338, 3)"
      ]
     },
     "execution_count": 18,
     "metadata": {},
     "output_type": "execute_result"
    }
   ],
   "source": [
    "x.shape"
   ]
  },
  {
   "cell_type": "code",
   "execution_count": 19,
   "id": "c9f90948",
   "metadata": {},
   "outputs": [
    {
     "data": {
      "text/plain": [
       "(1338,)"
      ]
     },
     "execution_count": 19,
     "metadata": {},
     "output_type": "execute_result"
    }
   ],
   "source": [
    "y.shape"
   ]
  },
  {
   "cell_type": "code",
   "execution_count": 20,
   "id": "1be660b5",
   "metadata": {},
   "outputs": [
    {
     "name": "stdout",
     "output_type": "stream",
     "text": [
      "age       -0.00\n",
      "bmi       -0.00\n",
      "charges   -0.00\n",
      "dtype: float64\n",
      "age       1.00\n",
      "bmi       1.00\n",
      "charges   1.00\n",
      "dtype: float64\n"
     ]
    },
    {
     "data": {
      "text/html": [
       "<div>\n",
       "<style scoped>\n",
       "    .dataframe tbody tr th:only-of-type {\n",
       "        vertical-align: middle;\n",
       "    }\n",
       "\n",
       "    .dataframe tbody tr th {\n",
       "        vertical-align: top;\n",
       "    }\n",
       "\n",
       "    .dataframe thead th {\n",
       "        text-align: right;\n",
       "    }\n",
       "</style>\n",
       "<table border=\"1\" class=\"dataframe\">\n",
       "  <thead>\n",
       "    <tr style=\"text-align: right;\">\n",
       "      <th></th>\n",
       "      <th>age</th>\n",
       "      <th>bmi</th>\n",
       "      <th>charges</th>\n",
       "    </tr>\n",
       "  </thead>\n",
       "  <tbody>\n",
       "    <tr>\n",
       "      <th>0</th>\n",
       "      <td>-1.44</td>\n",
       "      <td>-0.45</td>\n",
       "      <td>0.30</td>\n",
       "    </tr>\n",
       "    <tr>\n",
       "      <th>1</th>\n",
       "      <td>-1.51</td>\n",
       "      <td>0.51</td>\n",
       "      <td>-0.95</td>\n",
       "    </tr>\n",
       "    <tr>\n",
       "      <th>2</th>\n",
       "      <td>-0.80</td>\n",
       "      <td>0.38</td>\n",
       "      <td>-0.73</td>\n",
       "    </tr>\n",
       "    <tr>\n",
       "      <th>3</th>\n",
       "      <td>-0.44</td>\n",
       "      <td>-1.31</td>\n",
       "      <td>0.72</td>\n",
       "    </tr>\n",
       "    <tr>\n",
       "      <th>4</th>\n",
       "      <td>-0.51</td>\n",
       "      <td>-0.29</td>\n",
       "      <td>-0.78</td>\n",
       "    </tr>\n",
       "  </tbody>\n",
       "</table>\n",
       "</div>"
      ],
      "text/plain": [
       "    age   bmi  charges\n",
       "0 -1.44 -0.45     0.30\n",
       "1 -1.51  0.51    -0.95\n",
       "2 -0.80  0.38    -0.73\n",
       "3 -0.44 -1.31     0.72\n",
       "4 -0.51 -0.29    -0.78"
      ]
     },
     "execution_count": 20,
     "metadata": {},
     "output_type": "execute_result"
    }
   ],
   "source": [
    "from sklearn.preprocessing import StandardScaler\n",
    "\n",
    "scaler = StandardScaler().fit(x)\n",
    "x_scaled = pd.DataFrame(scaler.fit_transform(x), columns = x.columns, index = x.index)\n",
    "\n",
    "print(np.mean(x_scaled, axis=0))\n",
    "print(np.std(x_scaled, axis=0))\n",
    "\n",
    "x_scaled.head()"
   ]
  },
  {
   "cell_type": "code",
   "execution_count": 25,
   "id": "93fa89ad",
   "metadata": {},
   "outputs": [],
   "source": [
    "from sklearn import svm, tree\n",
    "from sklearn.model_selection import train_test_split\n",
    "from sklearn.metrics import accuracy_score"
   ]
  },
  {
   "cell_type": "code",
   "execution_count": 26,
   "id": "3ecbe13e",
   "metadata": {},
   "outputs": [],
   "source": [
    "x_train, x_test, y_train, y_test = train_test_split(x_scaled, y, random_state=0)\n"
   ]
  },
  {
   "cell_type": "code",
   "execution_count": 36,
   "id": "a4ccec80",
   "metadata": {},
   "outputs": [
    {
     "name": "stdout",
     "output_type": "stream",
     "text": [
      "0.33134328358208953\n"
     ]
    }
   ],
   "source": [
    "clf1 = svm.SVC()\n",
    "clf1.fit(x_train,y_train)\n",
    "predictions1 = clf1.predict(x_test)\n",
    "score1 = accuracy_score(y_test, predictions1)\n",
    "print(score1)"
   ]
  },
  {
   "cell_type": "code",
   "execution_count": 30,
   "id": "e9ff334f",
   "metadata": {},
   "outputs": [
    {
     "name": "stdout",
     "output_type": "stream",
     "text": [
      "0.32238805970149254\n"
     ]
    }
   ],
   "source": [
    "clf2 = tree.DecisionTreeClassifier(random_state=0)\n",
    "clf2 = clf2.fit(x_train, y_train)\n",
    "predictions2 = clf2.predict(x_test)\n",
    "score2 = accuracy_score(y_test,predictions2)\n",
    "print(score2)"
   ]
  },
  {
   "cell_type": "code",
   "execution_count": 31,
   "id": "5e8a7a00",
   "metadata": {},
   "outputs": [
    {
     "name": "stdout",
     "output_type": "stream",
     "text": [
      "0.30149253731343284 0.31343283582089554 -0.011940298507462699\n",
      "0.2835820895522388 0.3373134328358209 -0.05373134328358209\n",
      "0.33432835820895523 0.34626865671641793 -0.011940298507462699\n",
      "0.2955223880597015 0.30149253731343284 -0.005970149253731349\n",
      "0.3194029850746269 0.3373134328358209 -0.017910447761193993\n",
      "0.28955223880597014 0.34328358208955223 -0.05373134328358209\n",
      "0.31343283582089554 0.31343283582089554 0.0\n",
      "0.30149253731343284 0.29850746268656714 0.0029850746268657025\n",
      "0.28955223880597014 0.3253731343283582 -0.03582089552238804\n",
      "0.3074626865671642 0.31044776119402984 -0.002985074626865647\n",
      "0.3044776119402985 0.3253731343283582 -0.020895522388059695\n",
      "0.28955223880597014 0.3701492537313433 -0.08059701492537313\n",
      "0.2955223880597015 0.34626865671641793 -0.05074626865671644\n",
      "0.32238805970149254 0.33134328358208953 -0.008955223880596996\n",
      "0.3164179104477612 0.33134328358208953 -0.014925373134328346\n",
      "0.2746268656716418 0.3373134328358209 -0.06268656716417909\n",
      "0.3164179104477612 0.37910447761194027 -0.06268656716417909\n",
      "0.34626865671641793 0.34328358208955223 0.0029850746268657025\n",
      "0.2835820895522388 0.3761194029850746 -0.09253731343283583\n",
      "0.3074626865671642 0.31343283582089554 -0.005970149253731349\n"
     ]
    }
   ],
   "source": [
    "for i in range(20):\n",
    "    x_train, x_test, y_train, y_test = train_test_split(x_scaled, y)\n",
    "    clf1 = svm.SVC()\n",
    "    clf1.fit(x_train,y_train)\n",
    "    predictions1 = clf1.predict(x_test)\n",
    "    score1 = accuracy_score(y_test,predictions1)\n",
    "    clf2 = tree.DecisionTreeClassifier(random_state=0)\n",
    "    clf2 = clf2.fit(x_train, y_train)\n",
    "    predictions2 = clf2.predict(x_test)\n",
    "    score2 = accuracy_score(y_test,predictions2)\n",
    "    print(score1,score2,score1-score2)"
   ]
  },
  {
   "cell_type": "code",
   "execution_count": 34,
   "id": "a2e1f8c7",
   "metadata": {},
   "outputs": [
    {
     "data": {
      "image/png": "[encoded data removed]",
      "text/plain": [
       "<Figure size 640x480 with 1 Axes>"
      ]
     },
     "metadata": {},
     "output_type": "display_data"
    }
   ],
   "source": [
    "all_scores1=[]\n",
    "all_scores2=[]\n",
    "for i in range(1000):\n",
    "    x_train, x_test, y_train, y_test = train_test_split(x_scaled, y)\n",
    "    clf1 = svm.SVC()\n",
    "    clf1.fit(x_train,y_train)\n",
    "    predictions1 = clf1.predict(x_test)\n",
    "    score1 = accuracy_score(y_test,predictions1)\n",
    "    clf2 = tree.DecisionTreeClassifier(random_state=0)\n",
    "    clf2 = clf2.fit(x_train, y_train)\n",
    "    predictions2 = clf2.predict(x_test)\n",
    "    score2 = accuracy_score(y_test,predictions2)\n",
    "    all_scores1.append(score1)\n",
    "    all_scores2.append(score2)    \n",
    "plt.hist(all_scores1, label=\"df1\", alpha=0.5, bins=20)\n",
    "plt.hist(all_scores2, label=\"df2\", alpha=0.5, bins=20)\n",
    "plt.legend()\n",
    "plt.show()"
   ]
  },
  {
   "cell_type": "code",
   "execution_count": null,
   "id": "21f602d6",
   "metadata": {},
   "outputs": [],
   "source": []
  }
 ],
 "metadata": {
  "hide_input": false,
  "kernelspec": {
   "display_name": "Python 3 (ipykernel)",
   "language": "python",
   "name": "python3"
  },
  "language_info": {
   "codemirror_mode": {
    "name": "ipython",
    "version": 3
   },
   "file_extension": ".py",
   "mimetype": "text/x-python",
   "name": "python",
   "nbconvert_exporter": "python",
   "pygments_lexer": "ipython3",
   "version": "3.9.12"
  },
  "toc": {
   "base_numbering": 1,
   "nav_menu": {},
   "number_sections": true,
   "sideBar": true,
   "skip_h1_title": false,
   "title_cell": "Table of Contents",
   "title_sidebar": "Contents",
   "toc_cell": false,
   "toc_position": {},
   "toc_section_display": true,
   "toc_window_display": false
  }
 },
 "nbformat": 4,
 "nbformat_minor": 5
}
